{
  "cells": [
    {
      "cell_type": "markdown",
      "metadata": {
        "id": "view-in-github",
        "colab_type": "text"
      },
      "source": [
        "<a href=\"https://colab.research.google.com/github/ELBrown11/DisasterResponse/blob/main/ML_Pipeline_Preparation.ipynb\" target=\"_parent\"><img src=\"https://colab.research.google.com/assets/colab-badge.svg\" alt=\"Open In Colab\"/></a>"
      ]
    },
    {
      "cell_type": "markdown",
      "metadata": {
        "id": "9mgec7xUGLEn"
      },
      "source": [
        "# ML Pipeline Preparation\n",
        "Follow the instructions below to help you create your ML pipeline.\n",
        "### 1. Import libraries and load data from database.\n",
        "- Import Python libraries\n",
        "- Load dataset from database with [`read_sql_table`](https://pandas.pydata.org/pandas-docs/stable/generated/pandas.read_sql_table.html)\n",
        "- Define feature and target variables X and Y"
      ]
    },
    {
      "cell_type": "code",
      "source": [
        "from google.colab import drive\n",
        "drive.mount('/content/drive')"
      ],
      "metadata": {
        "colab": {
          "base_uri": "https://localhost:8080/"
        },
        "id": "DdmE3gBBhYEU",
        "outputId": "73bff1a8-26d6-4e7f-f45d-91f685261839"
      },
      "execution_count": null,
      "outputs": [
        {
          "output_type": "stream",
          "name": "stdout",
          "text": [
            "Mounted at /content/drive\n"
          ]
        }
      ]
    },
    {
      "cell_type": "code",
      "execution_count": null,
      "metadata": {
        "colab": {
          "base_uri": "https://localhost:8080/"
        },
        "id": "1sxrxu2TGLEq",
        "outputId": "3108ad5a-f305-4f62-9d9d-71e38f5bca0d"
      },
      "outputs": [
        {
          "output_type": "stream",
          "name": "stderr",
          "text": [
            "[nltk_data] Downloading package punkt to /root/nltk_data...\n",
            "[nltk_data]   Package punkt is already up-to-date!\n",
            "[nltk_data] Downloading package wordnet to /root/nltk_data...\n",
            "[nltk_data]   Package wordnet is already up-to-date!\n",
            "[nltk_data] Downloading package averaged_perceptron_tagger to\n",
            "[nltk_data]     /root/nltk_data...\n",
            "[nltk_data]   Package averaged_perceptron_tagger is already up-to-\n",
            "[nltk_data]       date!\n"
          ]
        }
      ],
      "source": [
        "# import libraries\n",
        "import nltk\n",
        "nltk.download(['punkt', 'wordnet', 'averaged_perceptron_tagger'])  # Download necessary NLTK resources\n",
        "\n",
        "import re\n",
        "import numpy as np\n",
        "import pandas as pd\n",
        "from nltk.tokenize import word_tokenize\n",
        "from nltk.stem import WordNetLemmatizer\n",
        "from sqlalchemy import create_engine\n",
        "\n",
        "from sklearn.metrics import confusion_matrix\n",
        "from sklearn.model_selection import GridSearchCV\n",
        "from sklearn.ensemble import RandomForestClassifier\n",
        "from sklearn.model_selection import train_test_split\n",
        "from sklearn.pipeline import Pipeline, FeatureUnion\n",
        "from sklearn.base import BaseEstimator, TransformerMixin\n",
        "from sklearn.feature_extraction.text import CountVectorizer, TfidfTransformer\n",
        "from sklearn.multioutput import MultiOutputClassifier\n",
        "from sklearn.metrics import classification_report, accuracy_score\n"
      ]
    },
    {
      "cell_type": "markdown",
      "source": [
        "-000,001,007"
      ],
      "metadata": {
        "id": "kEYyLfNUkV31"
      }
    },
    {
      "cell_type": "code",
      "execution_count": null,
      "metadata": {
        "colab": {
          "base_uri": "https://localhost:8080/",
          "height": 348
        },
        "id": "PlGDItEeGLEr",
        "outputId": "84d328d5-af5d-4e37-da86-b1591f2a1d45"
      },
      "outputs": [
        {
          "output_type": "error",
          "ename": "ValueError",
          "evalue": "Table disaster_messages not found",
          "traceback": [
            "\u001b[0;31m---------------------------------------------------------------------------\u001b[0m",
            "\u001b[0;31mValueError\u001b[0m                                Traceback (most recent call last)",
            "\u001b[0;32m<ipython-input-9-532c66a932b2>\u001b[0m in \u001b[0;36m<cell line: 0>\u001b[0;34m()\u001b[0m\n\u001b[1;32m      1\u001b[0m \u001b[0;31m# load data from database\u001b[0m\u001b[0;34m\u001b[0m\u001b[0;34m\u001b[0m\u001b[0m\n\u001b[1;32m      2\u001b[0m \u001b[0mengine\u001b[0m \u001b[0;34m=\u001b[0m \u001b[0mcreate_engine\u001b[0m\u001b[0;34m(\u001b[0m\u001b[0;34m'sqlite:///DisasterResponse.db'\u001b[0m\u001b[0;34m)\u001b[0m\u001b[0;34m\u001b[0m\u001b[0;34m\u001b[0m\u001b[0m\n\u001b[0;32m----> 3\u001b[0;31m \u001b[0mdf\u001b[0m \u001b[0;34m=\u001b[0m \u001b[0mpd\u001b[0m\u001b[0;34m.\u001b[0m\u001b[0mread_sql_table\u001b[0m\u001b[0;34m(\u001b[0m\u001b[0;34m'disaster_messages'\u001b[0m\u001b[0;34m,\u001b[0m \u001b[0mengine\u001b[0m\u001b[0;34m)\u001b[0m\u001b[0;34m\u001b[0m\u001b[0;34m\u001b[0m\u001b[0m\n\u001b[0m\u001b[1;32m      4\u001b[0m \u001b[0mX\u001b[0m \u001b[0;34m=\u001b[0m \u001b[0mdf\u001b[0m\u001b[0;34m.\u001b[0m\u001b[0mmessage\u001b[0m\u001b[0;34m.\u001b[0m\u001b[0mvalues\u001b[0m\u001b[0;34m\u001b[0m\u001b[0;34m\u001b[0m\u001b[0m\n\u001b[1;32m      5\u001b[0m \u001b[0mY\u001b[0m \u001b[0;34m=\u001b[0m \u001b[0mdf\u001b[0m\u001b[0;34m.\u001b[0m\u001b[0mcategories\u001b[0m\u001b[0;34m.\u001b[0m\u001b[0mvalues\u001b[0m\u001b[0;34m\u001b[0m\u001b[0;34m\u001b[0m\u001b[0m\n",
            "\u001b[0;32m/usr/local/lib/python3.11/dist-packages/pandas/io/sql.py\u001b[0m in \u001b[0;36mread_sql_table\u001b[0;34m(table_name, con, schema, index_col, coerce_float, parse_dates, columns, chunksize, dtype_backend)\u001b[0m\n\u001b[1;32m    384\u001b[0m     \u001b[0;32mwith\u001b[0m \u001b[0mpandasSQL_builder\u001b[0m\u001b[0;34m(\u001b[0m\u001b[0mcon\u001b[0m\u001b[0;34m,\u001b[0m \u001b[0mschema\u001b[0m\u001b[0;34m=\u001b[0m\u001b[0mschema\u001b[0m\u001b[0;34m,\u001b[0m \u001b[0mneed_transaction\u001b[0m\u001b[0;34m=\u001b[0m\u001b[0;32mTrue\u001b[0m\u001b[0;34m)\u001b[0m \u001b[0;32mas\u001b[0m \u001b[0mpandas_sql\u001b[0m\u001b[0;34m:\u001b[0m\u001b[0;34m\u001b[0m\u001b[0;34m\u001b[0m\u001b[0m\n\u001b[1;32m    385\u001b[0m         \u001b[0;32mif\u001b[0m \u001b[0;32mnot\u001b[0m \u001b[0mpandas_sql\u001b[0m\u001b[0;34m.\u001b[0m\u001b[0mhas_table\u001b[0m\u001b[0;34m(\u001b[0m\u001b[0mtable_name\u001b[0m\u001b[0;34m)\u001b[0m\u001b[0;34m:\u001b[0m\u001b[0;34m\u001b[0m\u001b[0;34m\u001b[0m\u001b[0m\n\u001b[0;32m--> 386\u001b[0;31m             \u001b[0;32mraise\u001b[0m \u001b[0mValueError\u001b[0m\u001b[0;34m(\u001b[0m\u001b[0;34mf\"Table {table_name} not found\"\u001b[0m\u001b[0;34m)\u001b[0m\u001b[0;34m\u001b[0m\u001b[0;34m\u001b[0m\u001b[0m\n\u001b[0m\u001b[1;32m    387\u001b[0m \u001b[0;34m\u001b[0m\u001b[0m\n\u001b[1;32m    388\u001b[0m         table = pandas_sql.read_table(\n",
            "\u001b[0;31mValueError\u001b[0m: Table disaster_messages not found"
          ]
        }
      ],
      "source": [
        "# load data from database\n",
        "engine = create_engine('sqlite:///DisasterResponse.db')\n",
        "df = pd.read_sql_table('disaster_messages', engine)\n",
        "X = df.message.values\n",
        "Y = df.iloc[:, 4:]"
      ]
    },
    {
      "cell_type": "markdown",
      "metadata": {
        "id": "ToEWgis2GLEs"
      },
      "source": [
        "### 2. Write a tokenization function to process your text data"
      ]
    },
    {
      "cell_type": "code",
      "execution_count": null,
      "metadata": {
        "id": "-kX0d7e9GLEt"
      },
      "outputs": [],
      "source": [
        "def tokenize(text):\n",
        "    \"\"\"Tokenize and clean text data.\"\"\"\n",
        "    # Regular expression for detecting URLs in text\n",
        "    url_regex = 'http[s]?://(?:[a-zA-Z]|[0-9]|[$-_@.&+]|[!*\\(\\),]|(?:%[0-9a-fA-F][0-9a-fA-F]))+'\n",
        "    detected_urls = re.findall(url_regex, text)  # Detect URLs in text\n",
        "    for url in detected_urls:\n",
        "        text = text.replace(url, \"urlplaceholder\")  # Replace URLs with a placeholder\n",
        "\n",
        "    tokens = word_tokenize(text)  # Tokenize text into words\n",
        "    lemmatizer = WordNetLemmatizer()\n",
        "\n",
        "    clean_tokens = [lemmatizer.lemmatize(tok).lower().strip() for tok in tokens]  # Lemmatize and clean tokens\n",
        "    return clean_tokens"
      ]
    },
    {
      "cell_type": "markdown",
      "metadata": {
        "id": "qzpyAjW4GLEt"
      },
      "source": [
        "### 3. Build a machine learning pipeline\n",
        "This machine pipeline should take in the `message` column as input and output classification results on the other 36 categories in the dataset. You may find the [MultiOutputClassifier](http://scikit-learn.org/stable/modules/generated/sklearn.multioutput.MultiOutputClassifier.html) helpful for predicting multiple target variables."
      ]
    },
    {
      "cell_type": "code",
      "execution_count": null,
      "metadata": {
        "id": "9XQjuJ7lGLEu"
      },
      "outputs": [],
      "source": [
        "def build_pipeline():\n",
        "\n",
        "    return Pipeline([\n",
        "        ('vect', CountVectorizer(tokenizer=tokenize)),\n",
        "        ('tfidf', TfidfTransformer()),\n",
        "        ('clf', MultiOutputClassifier(RandomForestClassifier()))\n",
        "    ])"
      ]
    },
    {
      "cell_type": "markdown",
      "metadata": {
        "id": "DJvL9g3MGLEv"
      },
      "source": [
        "### 4. Train pipeline\n",
        "- Split data into train and test sets\n",
        "- Train pipeline"
      ]
    },
    {
      "cell_type": "code",
      "execution_count": null,
      "metadata": {
        "colab": {
          "base_uri": "https://localhost:8080/",
          "height": 165
        },
        "id": "MHkJBv9mGLEv",
        "outputId": "62d45fc0-0827-404a-e91c-bd95643cedcc"
      },
      "outputs": [
        {
          "output_type": "error",
          "ename": "NameError",
          "evalue": "name 'X' is not defined",
          "traceback": [
            "\u001b[0;31m---------------------------------------------------------------------------\u001b[0m",
            "\u001b[0;31mNameError\u001b[0m                                 Traceback (most recent call last)",
            "\u001b[0;32m<ipython-input-4-290c3810c0bb>\u001b[0m in \u001b[0;36m<cell line: 0>\u001b[0;34m()\u001b[0m\n\u001b[1;32m      1\u001b[0m \u001b[0;31m# Split data into training and test sets\u001b[0m\u001b[0;34m\u001b[0m\u001b[0;34m\u001b[0m\u001b[0m\n\u001b[0;32m----> 2\u001b[0;31m \u001b[0mX_train\u001b[0m\u001b[0;34m,\u001b[0m \u001b[0mX_test\u001b[0m\u001b[0;34m,\u001b[0m \u001b[0mY_train\u001b[0m\u001b[0;34m,\u001b[0m \u001b[0mY_test\u001b[0m \u001b[0;34m=\u001b[0m \u001b[0mtrain_test_split\u001b[0m\u001b[0;34m(\u001b[0m\u001b[0mX\u001b[0m\u001b[0;34m,\u001b[0m \u001b[0mY\u001b[0m\u001b[0;34m,\u001b[0m \u001b[0mtest_size\u001b[0m\u001b[0;34m=\u001b[0m\u001b[0;36m0.2\u001b[0m\u001b[0;34m,\u001b[0m \u001b[0mrandom_state\u001b[0m\u001b[0;34m=\u001b[0m\u001b[0;36m42\u001b[0m\u001b[0;34m)\u001b[0m\u001b[0;34m\u001b[0m\u001b[0;34m\u001b[0m\u001b[0m\n\u001b[0m",
            "\u001b[0;31mNameError\u001b[0m: name 'X' is not defined"
          ]
        }
      ],
      "source": [
        "# Split data into training and test sets\n",
        "X_train, X_test, Y_train, Y_test = train_test_split(X, Y, test_size=0.2, random_state=42)\n",
        "\n",
        "model = build_pipeline()\n",
        "model.fit(X_train, Y_train)"
      ]
    },
    {
      "cell_type": "markdown",
      "metadata": {
        "id": "BWKBr95SGLEw"
      },
      "source": [
        "### 5. Test your model\n",
        "Report the f1 score, precision and recall for each output category of the dataset. You can do this by iterating through the columns and calling sklearn's `classification_report` on each."
      ]
    },
    {
      "cell_type": "code",
      "execution_count": null,
      "metadata": {
        "id": "YxkqabfhGLEx"
      },
      "outputs": [],
      "source": [
        "Y_pred = model.predict(X_test)\n",
        "\n",
        "# Convert Y_test and Y_pred to DataFrames for easier column access\n",
        "Y_test = pd.DataFrame(Y_test, columns=df.columns[4:])\n",
        "Y_pred = pd.DataFrame(Y_pred, columns=df.columns[4:])\n",
        "\n",
        "\n",
        "for column in Y_test.columns:\n",
        "    print(f'Classification Report for {column}:')\n",
        "    print(classification_report(Y_test[column], Y_pred[column]))"
      ]
    },
    {
      "cell_type": "markdown",
      "metadata": {
        "id": "piuSEwhXGLEx"
      },
      "source": [
        "### 6. Improve your model\n",
        "Use grid search to find better parameters."
      ]
    },
    {
      "cell_type": "code",
      "execution_count": null,
      "metadata": {
        "colab": {
          "base_uri": "https://localhost:8080/",
          "height": 202
        },
        "id": "pscKinn8GLEx",
        "outputId": "7e6a82d5-1aff-4e60-8d98-e3adca0222c8"
      },
      "outputs": [
        {
          "output_type": "error",
          "ename": "NameError",
          "evalue": "name 'GridSearchCV' is not defined",
          "traceback": [
            "\u001b[0;31m---------------------------------------------------------------------------\u001b[0m",
            "\u001b[0;31mNameError\u001b[0m                                 Traceback (most recent call last)",
            "\u001b[0;32m<ipython-input-1-792ab8698314>\u001b[0m in \u001b[0;36m<cell line: 0>\u001b[0;34m()\u001b[0m\n\u001b[1;32m      7\u001b[0m \u001b[0;34m\u001b[0m\u001b[0m\n\u001b[1;32m      8\u001b[0m \u001b[0mcv\u001b[0m \u001b[0;34m=\u001b[0m \u001b[0;36m3\u001b[0m\u001b[0;34m\u001b[0m\u001b[0;34m\u001b[0m\u001b[0m\n\u001b[0;32m----> 9\u001b[0;31m \u001b[0mmodel\u001b[0m \u001b[0;34m=\u001b[0m \u001b[0mGridSearchCV\u001b[0m\u001b[0;34m(\u001b[0m\u001b[0mpipeline\u001b[0m\u001b[0;34m,\u001b[0m \u001b[0mparam_grid\u001b[0m\u001b[0;34m=\u001b[0m\u001b[0mparameters\u001b[0m\u001b[0;34m,\u001b[0m \u001b[0mcv\u001b[0m\u001b[0;34m=\u001b[0m\u001b[0mcv\u001b[0m\u001b[0;34m)\u001b[0m\u001b[0;34m\u001b[0m\u001b[0;34m\u001b[0m\u001b[0m\n\u001b[0m\u001b[1;32m     10\u001b[0m \u001b[0mmodel\u001b[0m\u001b[0;34m.\u001b[0m\u001b[0mfit\u001b[0m\u001b[0;34m(\u001b[0m\u001b[0mX_train\u001b[0m\u001b[0;34m,\u001b[0m \u001b[0mY_train\u001b[0m\u001b[0;34m)\u001b[0m\u001b[0;34m\u001b[0m\u001b[0;34m\u001b[0m\u001b[0m\n",
            "\u001b[0;31mNameError\u001b[0m: name 'GridSearchCV' is not defined"
          ]
        }
      ],
      "source": [
        "parameters = {\n",
        "    'clf__estimator__n_estimators': [50, 100],\n",
        "    'clf__estimator__min_samples_split': [2, 3],\n",
        "    'clf__estimator__max_depth': [None, 10]\n",
        "}\n",
        "\n",
        "cv = GridSearchCV(model, param_grid=parameters);\n",
        "cv.fit(X_train, Y_train);"
      ]
    },
    {
      "cell_type": "markdown",
      "metadata": {
        "id": "TLUmkyYdGLEx"
      },
      "source": [
        "### 7. Test your model\n",
        "Show the accuracy, precision, and recall of the tuned model.  \n",
        "\n",
        "Since this project focuses on code quality, process, and  pipelines, there is no minimum performance metric needed to pass. However, make sure to fine tune your models for accuracy, precision and recall to make your project stand out - especially for your portfolio!"
      ]
    },
    {
      "cell_type": "code",
      "execution_count": null,
      "metadata": {
        "id": "U7qHGP7KGLEy"
      },
      "outputs": [],
      "source": [
        "model = GridSearchCV(pipeline, param_grid=parameters, cv=cv)\n",
        "model.fit(X_train, Y_train)"
      ]
    },
    {
      "cell_type": "markdown",
      "metadata": {
        "id": "B7m8fdtsGLEy"
      },
      "source": [
        "### 8. Try improving your model further. Here are a few ideas:\n",
        "* try other machine learning algorithms\n",
        "* add other features besides the TF-IDF"
      ]
    },
    {
      "cell_type": "code",
      "execution_count": null,
      "metadata": {
        "id": "y1sMhdb_GLEy"
      },
      "outputs": [],
      "source": []
    },
    {
      "cell_type": "markdown",
      "metadata": {
        "id": "wWpfSdF4GLEz"
      },
      "source": [
        "### 9. Export your model as a pickle file"
      ]
    },
    {
      "cell_type": "code",
      "execution_count": null,
      "metadata": {
        "id": "hXTYyPHVGLE0"
      },
      "outputs": [],
      "source": [
        "# save the model to disk\n",
        "filename = 'classifier_model'\n",
        "pickle.dump(cv, open(filename, 'wb'))"
      ]
    },
    {
      "cell_type": "markdown",
      "metadata": {
        "id": "gcEDyzumGLE0"
      },
      "source": [
        "### 10. Use this notebook to complete `train_classifier.py`\n",
        "Use the template file attached in the Resources folder to write a script that runs the steps above to create a database and export a model based on a new dataset specified by the user."
      ]
    },
    {
      "cell_type": "code",
      "execution_count": null,
      "metadata": {
        "id": "w5xUCO_QGLE0"
      },
      "outputs": [],
      "source": [
        "import sys\n",
        "import pandas as pd\n",
        "import numpy as np\n",
        "import pickle\n",
        "from sqlalchemy import create_engine\n",
        "from sklearn.pipeline import Pipeline\n",
        "from sklearn.model_selection import train_test_split, GridSearchCV\n",
        "from sklearn.feature_extraction.text import CountVectorizer, TfidfTransformer\n",
        "from sklearn.multioutput import MultiOutputClassifier\n",
        "from sklearn.ensemble import RandomForestClassifier\n",
        "from sklearn.metrics import classification_report, accuracy_score\n",
        "import nltk\n",
        "import re\n",
        "from nltk.tokenize import word_tokenize\n",
        "from nltk.stem import WordNetLemmatizer\n",
        "\n",
        "nltk.download(['punkt', 'wordnet'])\n",
        "\n",
        "# Function to load data from SQLite database\n",
        "def load_data(database_filepath):\n",
        "    engine = create_engine(f'sqlite:///{database_filepath}')\n",
        "    df = pd.read_sql_table('df', engine)\n",
        "\n",
        "    X = df['message'].values  # Message column as input\n",
        "    Y = df.iloc[:, 4:].values  # All categories as output\n",
        "    category_names = df.columns[4:]  # Names of categories\n",
        "\n",
        "    return X, Y, category_names\n",
        "\n",
        "# Function to clean and tokenize text\n",
        "def tokenize(text):\n",
        "    url_regex = 'http[s]?://(?:[a-zA-Z]|[0-9]|[$-_@.&+]|[!*\\(\\),]|(?:%[0-9a-fA-F][0-9a-fA-F]))+'\n",
        "    detected_urls = re.findall(url_regex, text)\n",
        "\n",
        "    for url in detected_urls:\n",
        "        text = text.replace(url, \"urlplaceholder\")\n",
        "\n",
        "    tokens = word_tokenize(text)\n",
        "    lemmatizer = WordNetLemmatizer()\n",
        "\n",
        "    clean_tokens = [lemmatizer.lemmatize(tok).lower().strip() for tok in tokens]\n",
        "\n",
        "    return clean_tokens\n",
        "\n",
        "# Function to build a machine learning pipeline\n",
        "def build_model():\n",
        "    pipeline = Pipeline([\n",
        "        ('vect', CountVectorizer(tokenizer=tokenize)),  # Convert text to count vectors\n",
        "        ('tfidf', TfidfTransformer()),  # Apply TF-IDF transformation\n",
        "        ('clf', MultiOutputClassifier(RandomForestClassifier()))  # Multi-output classification\n",
        "    ])\n",
        "\n",
        "    # Hyperparameter tuning using GridSearchCV\n",
        "    parameters = {\n",
        "        'clf__estimator__n_estimators': [50, 100],  # Number of trees in the forest\n",
        "        'clf__estimator__min_samples_split': [2, 4]  # Minimum samples per split\n",
        "    }\n",
        "\n",
        "    cv = GridSearchCV(pipeline, param_grid=parameters, verbose=2, n_jobs=-1)\n",
        "\n",
        "    return cv\n",
        "\n",
        "# Function to evaluate the model performance\n",
        "def evaluate_model(model, X_test, Y_test, category_names):\n",
        "    Y_pred = model.predict(X_test)\n",
        "\n",
        "    print(\"\\nClassification Report:\\n\")\n",
        "    accuracy_list = []\n",
        "\n",
        "    for i, category in enumerate(category_names):\n",
        "        print(f\"Category: {category}\")\n",
        "        print(classification_report(Y_test[:, i], Y_pred[:, i]))\n",
        "        acc = accuracy_score(Y_test[:, i], Y_pred[:, i])\n",
        "        accuracy_list.append(acc)\n",
        "        print(\"-\" * 60)\n",
        "\n",
        "    overall_accuracy = np.mean(accuracy_list)\n",
        "    print(f\"\\nOverall Model Accuracy: {overall_accuracy:.4f}\")\n",
        "\n",
        "# Function to save the trained model as a pickle file\n",
        "def save_model(model, model_filepath):\n",
        "    with open(model_filepath, 'wb') as f:\n",
        "        pickle.dump(model, f)\n",
        "\n",
        "# Main execution function\n",
        "def main():\n",
        "    if len(sys.argv) == 3:\n",
        "        database_filepath, model_filepath = sys.argv[1:]\n",
        "\n",
        "        print('Loading data...\\n    DATABASE: {}'.format(database_filepath))\n",
        "        X, Y, category_names = load_data(database_filepath)\n",
        "        X_train, X_test, Y_train, Y_test = train_test_split(X, Y, test_size=0.2, random_state=42)\n",
        "\n",
        "        print('Building model...')\n",
        "        model = build_model()\n",
        "\n",
        "        print('Training model...')\n",
        "        model.fit(X_train, Y_train)\n",
        "\n",
        "        print('Evaluating model...')\n",
        "        evaluate_model(model, X_test, Y_test, category_names)\n",
        "\n",
        "        print('Saving model...\\n    MODEL: {}'.format(model_filepath))\n",
        "        save_model(model, model_filepath)\n",
        "\n",
        "        print('Trained model saved!')\n",
        "\n",
        "    else:\n",
        "        print('Please provide the filepath of the disaster messages database '\\\n",
        "              'as the first argument and the filepath of the pickle file to '\\\n",
        "              'save the model to as the second argument. \\n\\nExample: python '\\\n",
        "              'train_classifier.py ../data/DisasterResponse.db classifier.pkl')\n",
        "\n",
        "\n",
        "if __name__ == '__main__':\n",
        "    main()\n"
      ]
    }
  ],
  "metadata": {
    "kernelspec": {
      "display_name": "Python 3",
      "language": "python",
      "name": "python3"
    },
    "language_info": {
      "codemirror_mode": {
        "name": "ipython",
        "version": 3
      },
      "file_extension": ".py",
      "mimetype": "text/x-python",
      "name": "python",
      "nbconvert_exporter": "python",
      "pygments_lexer": "ipython3",
      "version": "3.6.3"
    },
    "colab": {
      "provenance": [],
      "include_colab_link": true
    }
  },
  "nbformat": 4,
  "nbformat_minor": 0
}